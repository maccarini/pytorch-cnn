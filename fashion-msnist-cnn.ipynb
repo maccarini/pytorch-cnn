{
 "cells": [
  {
   "cell_type": "markdown",
   "metadata": {},
   "source": [
    "# PyTorch CNN aplication on Fashion MNIST Dataset"
   ]
  },
  {
   "cell_type": "markdown",
   "metadata": {},
   "source": [
    "## Setup"
   ]
  },
  {
   "cell_type": "code",
   "execution_count": 2,
   "metadata": {},
   "outputs": [
    {
     "name": "stderr",
     "output_type": "stream",
     "text": [
      "D:\\Users\\Lucas\\Anaconda3\\envs\\tf-gpu\\lib\\site-packages\\tensorboard\\compat\\tensorflow_stub\\dtypes.py:541: FutureWarning: Passing (type, 1) or '1type' as a synonym of type is deprecated; in a future version of numpy, it will be understood as (type, (1,)) / '(1,)type'.\n",
      "  _np_qint8 = np.dtype([(\"qint8\", np.int8, 1)])\n",
      "D:\\Users\\Lucas\\Anaconda3\\envs\\tf-gpu\\lib\\site-packages\\tensorboard\\compat\\tensorflow_stub\\dtypes.py:542: FutureWarning: Passing (type, 1) or '1type' as a synonym of type is deprecated; in a future version of numpy, it will be understood as (type, (1,)) / '(1,)type'.\n",
      "  _np_quint8 = np.dtype([(\"quint8\", np.uint8, 1)])\n",
      "D:\\Users\\Lucas\\Anaconda3\\envs\\tf-gpu\\lib\\site-packages\\tensorboard\\compat\\tensorflow_stub\\dtypes.py:543: FutureWarning: Passing (type, 1) or '1type' as a synonym of type is deprecated; in a future version of numpy, it will be understood as (type, (1,)) / '(1,)type'.\n",
      "  _np_qint16 = np.dtype([(\"qint16\", np.int16, 1)])\n",
      "D:\\Users\\Lucas\\Anaconda3\\envs\\tf-gpu\\lib\\site-packages\\tensorboard\\compat\\tensorflow_stub\\dtypes.py:544: FutureWarning: Passing (type, 1) or '1type' as a synonym of type is deprecated; in a future version of numpy, it will be understood as (type, (1,)) / '(1,)type'.\n",
      "  _np_quint16 = np.dtype([(\"quint16\", np.uint16, 1)])\n",
      "D:\\Users\\Lucas\\Anaconda3\\envs\\tf-gpu\\lib\\site-packages\\tensorboard\\compat\\tensorflow_stub\\dtypes.py:545: FutureWarning: Passing (type, 1) or '1type' as a synonym of type is deprecated; in a future version of numpy, it will be understood as (type, (1,)) / '(1,)type'.\n",
      "  _np_qint32 = np.dtype([(\"qint32\", np.int32, 1)])\n",
      "D:\\Users\\Lucas\\Anaconda3\\envs\\tf-gpu\\lib\\site-packages\\tensorboard\\compat\\tensorflow_stub\\dtypes.py:550: FutureWarning: Passing (type, 1) or '1type' as a synonym of type is deprecated; in a future version of numpy, it will be understood as (type, (1,)) / '(1,)type'.\n",
      "  np_resource = np.dtype([(\"resource\", np.ubyte, 1)])\n"
     ]
    }
   ],
   "source": [
    "# Importing the Libraries\n",
    "\n",
    "%matplotlib inline\n",
    "import torch\n",
    "import torch.nn as nn\n",
    "import torch.optim as optim\n",
    "import torch.nn.functional as F\n",
    "\n",
    "import torchvision\n",
    "import torchvision.transforms as transforms\n",
    "\n",
    "import numpy as np\n",
    "import pandas as pd\n",
    "import matplotlib\n",
    "import matplotlib.pyplot as plt\n",
    "\n",
    "from sklearn.metrics import confusion_matrix\n",
    "#from plotcm import plot_confusion_matrix\n",
    "\n",
    "import pdb\n",
    "from itertools import product\n",
    "torch.set_printoptions(linewidth=300)\n",
    "\n",
    "from torch.utils.tensorboard import SummaryWriter"
   ]
  },
  {
   "cell_type": "code",
   "execution_count": 3,
   "metadata": {},
   "outputs": [],
   "source": [
    "# Setting the ipython display\n",
    "ipython = 'inline' in matplotlib.get_backend()\n",
    "if ipython: from IPython import display"
   ]
  },
  {
   "cell_type": "code",
   "execution_count": 4,
   "metadata": {},
   "outputs": [],
   "source": [
    "# Initializing the device\n",
    "device = device = torch.device(\"cuda\" if torch.cuda.is_available() else \"cpu\")"
   ]
  },
  {
   "cell_type": "code",
   "execution_count": 5,
   "metadata": {},
   "outputs": [],
   "source": [
    "# Loading the training set\n",
    "train_set = torchvision.datasets.FashionMNIST(\n",
    "    root='./data'\n",
    "    ,train=True\n",
    "    ,download=True\n",
    "    ,transform=transforms.Compose([\n",
    "        transforms.ToTensor()\n",
    "    ])\n",
    ")"
   ]
  },
  {
   "cell_type": "code",
   "execution_count": 6,
   "metadata": {},
   "outputs": [],
   "source": [
    "# Loading the test set\n",
    "test_set = torchvision.datasets.FashionMNIST(\n",
    "    root='./data'\n",
    "    ,train=False\n",
    "    ,download=True\n",
    "    ,transform=transforms.Compose([\n",
    "        transforms.ToTensor()\n",
    "    ])\n",
    ")"
   ]
  },
  {
   "cell_type": "markdown",
   "metadata": {},
   "source": [
    "#### Network definition"
   ]
  },
  {
   "cell_type": "code",
   "execution_count": 7,
   "metadata": {},
   "outputs": [],
   "source": [
    "# Network Architecture\n",
    "class Network(nn.Module):\n",
    "    def __init__(self):\n",
    "        super().__init__()\n",
    "        \n",
    "        self.conv1 = nn.Sequential(\n",
    "            nn.Conv2d(1, 12, 5),         # (N, 1, 28, 28) -> (N,  12, 24, 24)\n",
    "            nn.BatchNorm2d(12),\n",
    "            nn.ReLU(),\n",
    "            nn.MaxPool2d(2, stride=2),  # (N, 12, 24, 24) -> (N,  12, 12, 12)\n",
    "        )\n",
    "        self.conv2 = nn.Sequential(\n",
    "            nn.Conv2d(12, 24, 5),        # (N, 12, 12, 12) -> (N,  24, 8, 8)\n",
    "            nn.BatchNorm2d(24),         \n",
    "            nn.ReLU(),\n",
    "            nn.MaxPool2d(2, stride=2)   # (N, 24, 8, 8) -> (N,  24, 4, 4)\n",
    "            )\n",
    "        self.fc = nn.Sequential(\n",
    "            nn.Linear(384, 120),         \n",
    "            nn.ReLU(),\n",
    "            nn.Linear(120,10)\n",
    "        )\n",
    "\n",
    "    def forward(self, t):\n",
    "\n",
    "        t = self.conv1(t)\n",
    "        t = self.conv2(t)\n",
    "        t = t.reshape(-1, 384)\n",
    "        t = self.fc(t)\n",
    "\n",
    "        return t"
   ]
  },
  {
   "cell_type": "markdown",
   "metadata": {},
   "source": [
    "#### Aditional functions"
   ]
  },
  {
   "cell_type": "code",
   "execution_count": 8,
   "metadata": {},
   "outputs": [],
   "source": [
    "# Function to get the number of correct predictions\n",
    "def num_correct(preds,labels):\n",
    "    return preds.argmax(dim=1).eq(labels).nonzero(as_tuple=True)[0].numel()"
   ]
  },
  {
   "cell_type": "code",
   "execution_count": 9,
   "metadata": {},
   "outputs": [],
   "source": [
    "# Plotting function\n",
    "def show_loss(train_losses,val_losses,train_corrects,test_corrects,ep):\n",
    "    plt.figure(2)\n",
    "    plt.clf()        \n",
    "    plt.title('Decreasing loss...')\n",
    "    plt.xlabel('Episodes')\n",
    "    plt.ylabel('Loss')\n",
    "    plt.plot(train_losses)\n",
    "    plt.pause(0.001)\n",
    "    \n",
    "    print(\"Episode:\", ep+1, \"\\n\", \\\n",
    "         \"Train Loss:\", train_losses[-1], \"Train correct:\",train_corrects[-1], \"Train Accuracy:\", (train_corrects[-1]/len(train_set)), \"\\n\", \\\n",
    "         \"Val Loss:\", val_losses[-1], \"Test Correct:\", test_corrects[-1], \"Test Accuracy:\", (test_corrects[-1]/len(test_set)))\n",
    "    if ipython: display.clear_output(wait=True)"
   ]
  },
  {
   "cell_type": "markdown",
   "metadata": {},
   "source": [
    "## Training the Network"
   ]
  },
  {
   "cell_type": "code",
   "execution_count": 10,
   "metadata": {
    "scrolled": true
   },
   "outputs": [
    {
     "data": {
      "image/png": "[encoded data removed]",
      "text/plain": [
       "<Figure size 432x288 with 1 Axes>"
      ]
     },
     "metadata": {
      "needs_background": "light"
     },
     "output_type": "display_data"
    },
    {
     "name": "stdout",
     "output_type": "stream",
     "text": [
      "Episode: 25 \n",
      " Train Loss: 9580.775633454323 Train correct: 56542 Train Accuracy: 0.9423666666666667 \n",
      " Val Loss: 0.3097144663333893 Test Correct: 8960 Test Accuracy: 0.896\n"
     ]
    }
   ],
   "source": [
    "# Hyperparameters dictionary for grid search\n",
    "test_params = dict(\n",
    "    lr=[0.01, 0.001],\n",
    "    batch_size=[100, 500, 1000]\n",
    ")\n",
    "\n",
    "param_values = [t for t in test_params.values()]\n",
    "\n",
    "# Grid Search Loop\n",
    "for lr,batch_size in product(*param_values): # product performs dot product between the elements contained in list\n",
    "    net = Network().to(device)\n",
    "\n",
    "    train_loader = torch.utils.data.DataLoader(train_set\n",
    "    ,batch_size=batch_size\n",
    "    ,shuffle=True\n",
    "    )\n",
    "\n",
    "    optimizer = optim.Adam(params=net.parameters(), lr=lr)\n",
    "\n",
    "    comment= f\"batch_size={batch_size}-lr={lr}\"\n",
    "    sr = SummaryWriter(comment=comment) # SummaryWriter allows the use of Tensorboard with pyTorch\n",
    "\n",
    "    # Lists of training results\n",
    "    train_losses = []\n",
    "    train_corrects = []\n",
    "    val_losses = []\n",
    "    test_corrects = []\n",
    "    \n",
    "    # Training Loop\n",
    "    for e in range(50):\n",
    "        train_loss = 0\n",
    "        val_loss = 0\n",
    "        total_train_correct = 0\n",
    "        total_test_correct = 0\n",
    "        \n",
    "        for batch in train_loader:\n",
    "            images, labels = batch\n",
    "            images = images.to(device)\n",
    "            labels = labels.to(device)\n",
    "            preds = net(images)\n",
    "\n",
    "            loss = F.cross_entropy(preds, labels)\n",
    "            optimizer.zero_grad()\n",
    "            loss.backward()\n",
    "            optimizer.step()\n",
    "            train_loss += loss.item() * batch_size\n",
    "            total_train_correct += num_correct(preds,labels)\n",
    "\n",
    "        with torch.no_grad():\n",
    "            test_images = test_set.data.unsqueeze(dim=1)\n",
    "            test_images = test_images.type(torch.FloatTensor).to(device)\n",
    "            test_labels = test_set.targets.to(device)\n",
    "            test_preds = net(test_images)\n",
    "\n",
    "            val_loss = F.cross_entropy(test_preds, test_labels).item()\n",
    "            total_test_correct = num_correct(test_preds,test_labels)\n",
    "        \n",
    "        train_losses.append(train_loss)\n",
    "        val_losses.append(val_loss)\n",
    "        train_corrects.append(total_train_correct)\n",
    "        test_corrects.append(total_test_correct)\n",
    "        \n",
    "        # Appending results to TensorBoard\n",
    "        sr.add_scalar(\"Loss\", train_loss, e)\n",
    "        sr.add_scalar(\"Val Loss\", val_loss, e)\n",
    "        sr.add_scalar(\"Train Accuracy\", total_train_correct/len(train_set), e)\n",
    "        sr.add_scalar(\"Test Accuracy\", total_test_correct/len(test_set), e)\n",
    "\n",
    "        show_loss(train_losses,val_losses,train_corrects,test_corrects,e)"
   ]
  },
  {
   "cell_type": "markdown",
   "metadata": {},
   "source": [
    "#### Saving the model"
   ]
  },
  {
   "cell_type": "code",
   "execution_count": null,
   "metadata": {},
   "outputs": [],
   "source": [
    "# torch.save(net.state_dict(), 'model.pt')"
   ]
  },
  {
   "cell_type": "markdown",
   "metadata": {},
   "source": [
    "#### Loading the model"
   ]
  },
  {
   "cell_type": "code",
   "execution_count": 113,
   "metadata": {},
   "outputs": [
    {
     "data": {
      "text/plain": [
       "Network(\n",
       "  (conv1): Conv2d(1, 6, kernel_size=(5, 5), stride=(1, 1))\n",
       "  (conv2): Conv2d(6, 12, kernel_size=(5, 5), stride=(1, 1))\n",
       "  (fc1): Linear(in_features=192, out_features=120, bias=True)\n",
       "  (fc2): Linear(in_features=120, out_features=60, bias=True)\n",
       "  (out): Linear(in_features=60, out_features=10, bias=True)\n",
       ")"
      ]
     },
     "execution_count": 113,
     "metadata": {},
     "output_type": "execute_result"
    }
   ],
   "source": [
    "# net = Network().to(device)\n",
    "# net.load_state_dict(torch.load('model.pt'))\n",
    "# net.eval()"
   ]
  },
  {
   "cell_type": "markdown",
   "metadata": {},
   "source": [
    "### Building the confusion matrix"
   ]
  },
  {
   "cell_type": "code",
   "execution_count": 11,
   "metadata": {},
   "outputs": [],
   "source": [
    "# Dataset loader to use as\n",
    "loader = torch.utils.data.DataLoader(train_set\n",
    "    ,batch_size=10\n",
    "    ,shuffle=False\n",
    ")\n",
    "\n",
    "\n",
    "with torch.no_grad():\n",
    "    preds = torch.tensor([]).to(device)\n",
    "    # Getting preds in batches to avoid OOM\n",
    "    for batch in loader:\n",
    "        images, labels = batch\n",
    "        images = images.to(device)\n",
    "        pred_batch = net(images)\n",
    "        preds = torch.cat(\n",
    "            (preds,pred_batch)\n",
    "            ,dim=0)\n",
    "        \n",
    "preds = preds.argmax(dim=1).to(device)\n",
    "targets = train_set.targets.to(device)\n",
    "\n",
    "targets_preds = torch.stack(\n",
    "    (targets,preds),\n",
    "    dim=1\n",
    "    ).to(device)\n",
    "\n",
    "cm = torch.zeros([10,10],dtype=torch.int64).to(device)\n",
    "\n",
    "# Filling in the matrix\n",
    "for i in range(targets_preds.shape[0]):\n",
    "    cm[targets_preds[i][0]][targets_preds[i][1]] += 1\n",
    "    "
   ]
  },
  {
   "cell_type": "markdown",
   "metadata": {},
   "source": [
    "#### Visualizing the matrix"
   ]
  },
  {
   "cell_type": "code",
   "execution_count": 27,
   "metadata": {},
   "outputs": [
    {
     "data": {
      "text/plain": [
       "tensor([[5451,    8,   45,  101,   16,    2,  363,    0,   14,    0],\n",
       "        [   4, 5951,    1,   32,    6,    0,    3,    0,    3,    0],\n",
       "        [  81,    3, 4754,   45,  540,    1,  569,    0,    7,    0],\n",
       "        [  59,   18,   11, 5679,  137,    0,   92,    0,    4,    0],\n",
       "        [   7,    5,   62,   89, 5488,    0,  346,    0,    3,    0],\n",
       "        [   3,    1,    0,    1,    0, 5724,    5,  179,   11,   76],\n",
       "        [ 466,   10,  100,  103,  190,    2, 5113,    0,   16,    0],\n",
       "        [   0,    0,    0,    0,    0,    4,    0, 5917,    1,   78],\n",
       "        [  25,    4,   10,   14,   36,    4,   57,    9, 5839,    2],\n",
       "        [   0,    0,    0,    0,    0,    4,    0,  120,    1, 5875]], device='cuda:0')"
      ]
     },
     "execution_count": 27,
     "metadata": {},
     "output_type": "execute_result"
    }
   ],
   "source": [
    "cm"
   ]
  },
  {
   "cell_type": "markdown",
   "metadata": {},
   "source": [
    "#### Confusion Matrix as Heat Map"
   ]
  },
  {
   "cell_type": "code",
   "execution_count": 28,
   "metadata": {},
   "outputs": [
    {
     "data": {
      "image/png": "[encoded data removed]",
      "text/plain": [
       "<Figure size 432x288 with 2 Axes>"
      ]
     },
     "metadata": {
      "needs_background": "light"
     },
     "output_type": "display_data"
    }
   ],
   "source": [
    "plt.imshow(cm.tolist(), interpolation='nearest' ,cmap=\"viridis\");\n",
    "plt.colorbar()\n",
    "plt.show()"
   ]
  }
 ],
 "metadata": {
  "kernelspec": {
   "display_name": "Python 3",
   "language": "python",
   "name": "python3"
  },
  "language_info": {
   "codemirror_mode": {
    "name": "ipython",
    "version": 3
   },
   "file_extension": ".py",
   "mimetype": "text/x-python",
   "name": "python",
   "nbconvert_exporter": "python",
   "pygments_lexer": "ipython3",
   "version": "3.7.5"
  }
 },
 "nbformat": 4,
 "nbformat_minor": 2
}
